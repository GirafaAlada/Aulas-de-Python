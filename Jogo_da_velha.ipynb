{
  "nbformat": 4,
  "nbformat_minor": 0,
  "metadata": {
    "colab": {
      "provenance": [],
      "authorship_tag": "ABX9TyNcM1W8hH4rBmFtJPgBG3dn",
      "include_colab_link": true
    },
    "kernelspec": {
      "name": "python3",
      "display_name": "Python 3"
    },
    "language_info": {
      "name": "python"
    }
  },
  "cells": [
    {
      "cell_type": "markdown",
      "metadata": {
        "id": "view-in-github",
        "colab_type": "text"
      },
      "source": [
        "<a href=\"https://colab.research.google.com/github/GirafaAlada/Aulas-de-Python/blob/main/Jogo_da_velha.ipynb\" target=\"_parent\"><img src=\"https://colab.research.google.com/assets/colab-badge.svg\" alt=\"Open In Colab\"/></a>"
      ]
    },
    {
      "cell_type": "markdown",
      "source": [
        "# Hora de tentar fazer uma coisa adhihaudhauduahud"
      ],
      "metadata": {
        "id": "pMkDUoY4CvLX"
      }
    },
    {
      "cell_type": "code",
      "execution_count": null,
      "metadata": {
        "id": "-9ZZxfT3CuDW"
      },
      "outputs": [],
      "source": [
        "from re import X\n",
        "#Joguinho da velha\n",
        "#primeiro vou tentar fazer uma formula que desenha o tabuleiro\n",
        "\n",
        "jogando = True\n",
        "linhas = ['|','-','-','-','-','-','-','-','-','-','|','-','-','-','-','-','-','-','-','-','|','-','-','-','-','-','-','-','-','-','|']\n",
        "null = ['|',' ',' ',' ',' ',' ',' ',' ',' ',' ','|',' ',' ',' ',' ',' ',' ',' ',' ',' ','|',' ',' ',' ',' ',' ',' ',' ',' ',' ','|']\n",
        "cabecalho_1 = ['|','1',' ',' ',' ',' ',' ',' ',' ',' ','|','2',' ',' ',' ',' ',' ',' ',' ',' ','|','3',' ',' ',' ',' ',' ',' ',' ',' ','|']\n",
        "espaco_1 = ['|',' ',' ',' ',' ',' ',' ',' ',' ',' ','|',' ',' ',' ',' ',' ',' ',' ',' ',' ','|',' ',' ',' ',' ',' ',' ',' ',' ',' ','|']\n",
        "cabecalho_2 = ['|','4',' ',' ',' ',' ',' ',' ',' ',' ','|','5',' ',' ',' ',' ',' ',' ',' ',' ','|','6',' ',' ',' ',' ',' ',' ',' ',' ','|']\n",
        "espaco_2 = ['|',' ',' ',' ',' ',' ',' ',' ',' ',' ','|',' ',' ',' ',' ',' ',' ',' ',' ',' ','|',' ',' ',' ',' ',' ',' ',' ',' ',' ','|']\n",
        "cabecalho_3 = ['|','7',' ',' ',' ',' ',' ',' ',' ',' ','|','8',' ',' ',' ',' ',' ',' ',' ',' ','|','9',' ',' ',' ',' ',' ',' ',' ',' ','|']\n",
        "espaco_3 = ['|',' ',' ',' ',' ',' ',' ',' ',' ',' ','|',' ',' ',' ',' ',' ',' ',' ',' ',' ','|',' ',' ',' ',' ',' ',' ',' ',' ',' ','|']\n",
        "\n",
        "#Fórmula que desenha o tabuleiro toda vez\n",
        "\n",
        "def tabuleiro():\n",
        "  print(''.join(linhas))\n",
        "  print(''.join(cabecalho_1))\n",
        "  print(''.join(espaco_1))\n",
        "  print(''.join(null))\n",
        "  print(''.join(linhas))\n",
        "  print(''.join(cabecalho_2))\n",
        "  print(''.join(espaco_2))\n",
        "  print(''.join(null))\n",
        "  print(''.join(linhas))\n",
        "  print(''.join(cabecalho_3))\n",
        "  print(''.join(espaco_3))\n",
        "  print(''.join(null))\n",
        "  print(''.join(linhas))\n",
        "\n",
        "#Variavel que fala de quem é a vez\n",
        "jogador = 1\n",
        "\n",
        "#Formula que coloca o X ou O no tabuleiro\n",
        "\n",
        "def eh_a_hora_do_duelo():\n",
        "  str(jogada)\n",
        "  if jogada in cabecalho_1:\n",
        "    if jogador == 1:\n",
        "      espaco_1[cabecalho_1.index(jogada) + 4] = 'X'\n",
        "    else:\n",
        "      espaco_1[cabecalho_1.index(jogada) + 4] = 'O'\n",
        "  elif jogada in cabecalho_2:\n",
        "    if jogador == 1:\n",
        "      espaco_2[cabecalho_2.index(jogada) + 4] = 'X'\n",
        "    else:\n",
        "      espaco_2[cabecalho_2.index(jogada) + 4] = 'O'\n",
        "  elif jogada in cabecalho_3:\n",
        "    if jogador == 1:\n",
        "      espaco_3[cabecalho_3.index(jogada) + 4] = 'X'\n",
        "    else:\n",
        "      espaco_3[cabecalho_3.index(jogada) + 4] = 'O'\n",
        "\n",
        "#Começa o jogo!!!\n",
        "print('Joguinho da velha!!!')\n",
        "print('')\n",
        "print('O jogador 1 é o X. O jogador 2 é o O')\n",
        "\n",
        "#Fiz um loop com while pra ficar no jogo\n",
        "while jogando == True:\n",
        "  tabuleiro()\n",
        "  jogada = input('Jogador 1, onde vc quer jogar? ')\n",
        "  eh_a_hora_do_duelo()\n",
        "  tabuleiro()\n",
        "  jogador = 2\n",
        "  jogada = input('Jogador 2, onde vc quer jogar? ')\n",
        "  eh_a_hora_do_duelo()\n",
        "  jogador = 1"
      ]
    }
  ]
}